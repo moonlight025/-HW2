{
  "nbformat": 4,
  "nbformat_minor": 0,
  "metadata": {
    "colab": {
      "provenance": [],
      "collapsed_sections": []
    },
    "kernelspec": {
      "name": "python3",
      "display_name": "Python 3"
    },
    "language_info": {
      "name": "python"
    },
    "accelerator": "GPU"
  },
  "cells": [
    {
      "cell_type": "code",
      "execution_count": 11,
      "metadata": {
        "id": "gv2v1ZFhnrL3"
      },
      "outputs": [],
      "source": [
        "import numpy as np\n",
        "import tensorflow as tf\n",
        "import tensorflow.keras as keras"
      ]
    },
    {
      "cell_type": "code",
      "source": [
        "(xr,yr), (xt,yt)= keras.datasets.mnist.load_data()"
      ],
      "metadata": {
        "id": "GWvkrI_4pmur"
      },
      "execution_count": 12,
      "outputs": []
    },
    {
      "cell_type": "code",
      "source": [
        "xr.shape, yr.shape, xt.shape, yt.shape"
      ],
      "metadata": {
        "colab": {
          "base_uri": "https://localhost:8080/"
        },
        "id": "IeChuAQGpmxy",
        "outputId": "bcaf3131-397e-424c-f266-ddd0031aa66c"
      },
      "execution_count": 13,
      "outputs": [
        {
          "output_type": "execute_result",
          "data": {
            "text/plain": [
              "((60000, 28, 28), (60000,), (10000, 28, 28), (10000,))"
            ]
          },
          "metadata": {},
          "execution_count": 13
        }
      ]
    },
    {
      "cell_type": "code",
      "source": [
        "x= xr[7]\n",
        "#%%\n",
        "for i in range(28):\n",
        "    for j in range(28):\n",
        "        z= x[i,j]\n",
        "        print(f'{z:3d}', end='')\n",
        "    print()"
      ],
      "metadata": {
        "colab": {
          "base_uri": "https://localhost:8080/"
        },
        "id": "HT8GysTVpm0m",
        "outputId": "6564a121-0076-46ce-c70a-f4818da7721b"
      },
      "execution_count": 14,
      "outputs": [
        {
          "output_type": "stream",
          "name": "stdout",
          "text": [
            "  0  0  0  0  0  0  0  0  0  0  0  0  0  0  0  0  0  0  0  0  0  0  0  0  0  0  0  0\n",
            "  0  0  0  0  0  0  0  0  0  0  0  0  0  0  0  0  0  0  0  0  0  0  0  0  0  0  0  0\n",
            "  0  0  0  0  0  0  0  0  0  0  0  0  0  0  0  0  0  0  0  0  0  0  0  0  0  0  0  0\n",
            "  0  0  0  0  0  0  0  0  0  0  0  0  0  0  0  0  0  0  0  0  0  0  0  0  0  0  0  0\n",
            "  0  0  0  0  0  0  0  0  0  0  0  0  0  0  0  0  0  0  0  0  0  0  0  0  0  0  0  0\n",
            "  0  0  0  0  0  0  0  0  0  0  0 38 43105255253253253253253174  6  0  0  0  0  0  0\n",
            "  0  0  0  0  0  0  0  0  0 43139224226252253252252252252252252158 14  0  0  0  0  0\n",
            "  0  0  0  0  0  0  0  0  0178252252252252253252252252252252252252 59  0  0  0  0  0\n",
            "  0  0  0  0  0  0  0  0  0109252252230132133132132189252252252252 59  0  0  0  0  0\n",
            "  0  0  0  0  0  0  0  0  0  4 29 29 24  0  0  0  0 14226252252172  7  0  0  0  0  0\n",
            "  0  0  0  0  0  0  0  0  0  0  0  0  0  0  0  0  0 85243252252144  0  0  0  0  0  0\n",
            "  0  0  0  0  0  0  0  0  0  0  0  0  0  0  0  0 88189252252252 14  0  0  0  0  0  0\n",
            "  0  0  0  0  0  0  0  0  0  0  0  0  0  0 91212247252252252204  9  0  0  0  0  0  0\n",
            "  0  0  0  0  0  0  0  0  0 32125193193193253252252252238102 28  0  0  0  0  0  0  0\n",
            "  0  0  0  0  0  0  0  0 45222252252252252253252252252177  0  0  0  0  0  0  0  0  0\n",
            "  0  0  0  0  0  0  0  0 45223253253253253255253253253253 74  0  0  0  0  0  0  0  0\n",
            "  0  0  0  0  0  0  0  0  0 31123 52 44 44 44 44143252252 74  0  0  0  0  0  0  0  0\n",
            "  0  0  0  0  0  0  0  0  0  0  0  0  0  0  0  0 15252252 74  0  0  0  0  0  0  0  0\n",
            "  0  0  0  0  0  0  0  0  0  0  0  0  0  0  0  0 86252252 74  0  0  0  0  0  0  0  0\n",
            "  0  0  0  0  0  0  5 75  9  0  0  0  0  0  0 98242252252 74  0  0  0  0  0  0  0  0\n",
            "  0  0  0  0  0 61183252 29  0  0  0  0 18 92239252252243 65  0  0  0  0  0  0  0  0\n",
            "  0  0  0  0  0208252252147134134134134203253252252188 83  0  0  0  0  0  0  0  0  0\n",
            "  0  0  0  0  0208252252252252252252252252253230153  8  0  0  0  0  0  0  0  0  0  0\n",
            "  0  0  0  0  0 49157252252252252252217207146 45  0  0  0  0  0  0  0  0  0  0  0  0\n",
            "  0  0  0  0  0  0  7103235252172103 24  0  0  0  0  0  0  0  0  0  0  0  0  0  0  0\n",
            "  0  0  0  0  0  0  0  0  0  0  0  0  0  0  0  0  0  0  0  0  0  0  0  0  0  0  0  0\n",
            "  0  0  0  0  0  0  0  0  0  0  0  0  0  0  0  0  0  0  0  0  0  0  0  0  0  0  0  0\n",
            "  0  0  0  0  0  0  0  0  0  0  0  0  0  0  0  0  0  0  0  0  0  0  0  0  0  0  0  0\n"
          ]
        }
      ]
    },
    {
      "cell_type": "code",
      "source": [
        "import matplotlib.pyplot as pl\n",
        "pl.imshow(x)"
      ],
      "metadata": {
        "colab": {
          "base_uri": "https://localhost:8080/",
          "height": 282
        },
        "id": "efjt4Ze4pm3P",
        "outputId": "4c4d3377-f4a5-4d33-e27e-57953965143a"
      },
      "execution_count": 15,
      "outputs": [
        {
          "output_type": "execute_result",
          "data": {
            "text/plain": [
              "<matplotlib.image.AxesImage at 0x7f0f79d34790>"
            ]
          },
          "metadata": {},
          "execution_count": 15
        },
        {
          "output_type": "display_data",
          "data": {
            "text/plain": [
              "<Figure size 432x288 with 1 Axes>"
            ],
            "image/png": "[encoded data removed]"
          },
          "metadata": {
            "needs_background": "light"
          }
        }
      ]
    },
    {
      "cell_type": "code",
      "source": [
        "xr1= xr.reshape(-1, 28*28) \n",
        "xt1= xt.reshape(-1, 28*28) "
      ],
      "metadata": {
        "id": "jbAFcb29pm8Q"
      },
      "execution_count": 16,
      "outputs": []
    },
    {
      "cell_type": "code",
      "source": [
        "aModel= keras.Sequential([\n",
        "    keras.Input(28*28),\n",
        "    keras.layers.Dense(100),    \n",
        "    keras.layers.Dense(10)   \n",
        "    ])\n",
        "\n",
        "aModel.compile(\n",
        "    loss=     'sparse_categorical_crossentropy',\n",
        "    metrics= ['accuracy']\n",
        "    )"
      ],
      "metadata": {
        "id": "qtbuq6G5pm-7"
      },
      "execution_count": 17,
      "outputs": []
    },
    {
      "cell_type": "code",
      "source": [
        "aModel.summary()\n",
        "\n",
        "keras.utils.plot_model(aModel, \n",
        "    show_shapes= True, \n",
        "    show_layer_activations= True)"
      ],
      "metadata": {
        "colab": {
          "base_uri": "https://localhost:8080/",
          "height": 538
        },
        "id": "U_nWjSwKpnBb",
        "outputId": "5915cc3c-4da2-453c-b45f-50b866c063c0"
      },
      "execution_count": 18,
      "outputs": [
        {
          "output_type": "stream",
          "name": "stdout",
          "text": [
            "Model: \"sequential\"\n",
            "_________________________________________________________________\n",
            " Layer (type)                Output Shape              Param #   \n",
            "=================================================================\n",
            " dense (Dense)               (None, 100)               78500     \n",
            "                                                                 \n",
            " dense_1 (Dense)             (None, 10)                1010      \n",
            "                                                                 \n",
            "=================================================================\n",
            "Total params: 79,510\n",
            "Trainable params: 79,510\n",
            "Non-trainable params: 0\n",
            "_________________________________________________________________\n"
          ]
        },
        {
          "output_type": "execute_result",
          "data": {
            "image/png": "[encoded data removed]",
            "text/plain": [
              "<IPython.core.display.Image object>"
            ]
          },
          "metadata": {},
          "execution_count": 18
        }
      ]
    },
    {
      "cell_type": "code",
      "source": [
        "aModel.fit(xr1, yr, \n",
        "           epochs= 10, \n",
        "           batch_size= 100)\n",
        "\n",
        "aModel.evaluate(xt1, yt)"
      ],
      "metadata": {
        "colab": {
          "base_uri": "https://localhost:8080/"
        },
        "id": "jixwSBkwpnD7",
        "outputId": "10a5e394-cb65-4ec3-c7f7-0ea5c562ea57"
      },
      "execution_count": 19,
      "outputs": [
        {
          "output_type": "stream",
          "name": "stdout",
          "text": [
            "Epoch 1/10\n",
            "600/600 [==============================] - 5s 2ms/step - loss: 2.5637 - accuracy: 0.1329\n",
            "Epoch 2/10\n",
            "600/600 [==============================] - 1s 2ms/step - loss: 2.3005 - accuracy: 0.1743\n",
            "Epoch 3/10\n",
            "600/600 [==============================] - 1s 2ms/step - loss: 2.3032 - accuracy: 0.1874\n",
            "Epoch 4/10\n",
            "600/600 [==============================] - 1s 2ms/step - loss: 2.2975 - accuracy: 0.2003\n",
            "Epoch 5/10\n",
            "600/600 [==============================] - 1s 2ms/step - loss: 2.2958 - accuracy: 0.1553\n",
            "Epoch 6/10\n",
            "600/600 [==============================] - 1s 2ms/step - loss: 2.3366 - accuracy: 0.1837\n",
            "Epoch 7/10\n",
            "600/600 [==============================] - 1s 2ms/step - loss: 2.2479 - accuracy: 0.1764\n",
            "Epoch 8/10\n",
            "600/600 [==============================] - 1s 2ms/step - loss: 2.1901 - accuracy: 0.1824\n",
            "Epoch 9/10\n",
            "600/600 [==============================] - 1s 2ms/step - loss: 2.1716 - accuracy: 0.1844\n",
            "Epoch 10/10\n",
            "600/600 [==============================] - 1s 2ms/step - loss: 2.1620 - accuracy: 0.1772\n",
            "313/313 [==============================] - 1s 2ms/step - loss: 2.1571 - accuracy: 0.1786\n"
          ]
        },
        {
          "output_type": "execute_result",
          "data": {
            "text/plain": [
              "[2.1570639610290527, 0.1785999983549118]"
            ]
          },
          "metadata": {},
          "execution_count": 19
        }
      ]
    },
    {
      "cell_type": "code",
      "source": [
        "aModel= keras.Sequential([\n",
        "    keras.Input(28*28),\n",
        "    keras.layers.Dense(100, activation= 'sigmoid'),    \n",
        "    keras.layers.Dense(10)   \n",
        "    ])\n",
        "\n",
        "aModel.compile(\n",
        "    loss=     'sparse_categorical_crossentropy',\n",
        "    metrics= ['accuracy']\n",
        "    )\n",
        "\n",
        "aModel.fit(xr1, yr, \n",
        "           epochs= 10, \n",
        "           batch_size= 100)\n",
        "\n",
        "aModel.evaluate(xt1, yt)"
      ],
      "metadata": {
        "colab": {
          "base_uri": "https://localhost:8080/"
        },
        "id": "qdL2qjlIpnGk",
        "outputId": "26585e58-f47d-4a8c-87d5-5ca0dd0fc4a3"
      },
      "execution_count": 20,
      "outputs": [
        {
          "output_type": "stream",
          "name": "stdout",
          "text": [
            "Epoch 1/10\n",
            "600/600 [==============================] - 2s 2ms/step - loss: 2.3443 - accuracy: 0.1788\n",
            "Epoch 2/10\n",
            "600/600 [==============================] - 1s 2ms/step - loss: 2.1384 - accuracy: 0.2605\n",
            "Epoch 3/10\n",
            "600/600 [==============================] - 1s 2ms/step - loss: 2.1279 - accuracy: 0.2825\n",
            "Epoch 4/10\n",
            "600/600 [==============================] - 1s 2ms/step - loss: 2.2241 - accuracy: 0.2753\n",
            "Epoch 5/10\n",
            "600/600 [==============================] - 1s 2ms/step - loss: 2.3020 - accuracy: 0.2419\n",
            "Epoch 6/10\n",
            "600/600 [==============================] - 1s 2ms/step - loss: 2.2878 - accuracy: 0.2143\n",
            "Epoch 7/10\n",
            "600/600 [==============================] - 1s 2ms/step - loss: 2.2941 - accuracy: 0.2088\n",
            "Epoch 8/10\n",
            "600/600 [==============================] - 1s 2ms/step - loss: 2.2951 - accuracy: 0.2144\n",
            "Epoch 9/10\n",
            "600/600 [==============================] - 1s 2ms/step - loss: 2.3025 - accuracy: 0.2143\n",
            "Epoch 10/10\n",
            "600/600 [==============================] - 1s 2ms/step - loss: 2.3025 - accuracy: 0.2142\n",
            "313/313 [==============================] - 1s 2ms/step - loss: 2.3035 - accuracy: 0.2202\n"
          ]
        },
        {
          "output_type": "execute_result",
          "data": {
            "text/plain": [
              "[2.303527355194092, 0.22020000219345093]"
            ]
          },
          "metadata": {},
          "execution_count": 20
        }
      ]
    },
    {
      "cell_type": "code",
      "source": [
        "aModel= keras.Sequential([\n",
        "    keras.Input(28*28),\n",
        "    keras.layers.Dense(100, activation= 'sigmoid'),    \n",
        "    keras.layers.Dense(10,  activation= 'sigmoid')\n",
        "    ])\n",
        "\n",
        "aModel.compile(\n",
        "    loss=     'sparse_categorical_crossentropy',\n",
        "    metrics= ['accuracy']\n",
        "    )\n",
        "\n",
        "aModel.fit(xr1, yr, \n",
        "           epochs= 10, \n",
        "           batch_size= 100)\n",
        "\n",
        "aModel.evaluate(xt1, yt)"
      ],
      "metadata": {
        "colab": {
          "base_uri": "https://localhost:8080/"
        },
        "id": "ftvAp96tpnJE",
        "outputId": "3680914b-bedb-4294-8950-dd2abd1270e8"
      },
      "execution_count": 21,
      "outputs": [
        {
          "output_type": "stream",
          "name": "stdout",
          "text": [
            "Epoch 1/10\n",
            "600/600 [==============================] - 2s 2ms/step - loss: 0.5587 - accuracy: 0.8463\n",
            "Epoch 2/10\n",
            "600/600 [==============================] - 1s 2ms/step - loss: 0.2949 - accuracy: 0.9124\n",
            "Epoch 3/10\n",
            "600/600 [==============================] - 1s 2ms/step - loss: 0.2539 - accuracy: 0.9223\n",
            "Epoch 4/10\n",
            "600/600 [==============================] - 1s 2ms/step - loss: 0.2318 - accuracy: 0.9286\n",
            "Epoch 5/10\n",
            "600/600 [==============================] - 1s 2ms/step - loss: 0.2164 - accuracy: 0.9347\n",
            "Epoch 6/10\n",
            "600/600 [==============================] - 1s 2ms/step - loss: 0.2033 - accuracy: 0.9375\n",
            "Epoch 7/10\n",
            "600/600 [==============================] - 1s 2ms/step - loss: 0.1908 - accuracy: 0.9422\n",
            "Epoch 8/10\n",
            "600/600 [==============================] - 1s 2ms/step - loss: 0.1862 - accuracy: 0.9439\n",
            "Epoch 9/10\n",
            "600/600 [==============================] - 1s 2ms/step - loss: 0.1776 - accuracy: 0.9470\n",
            "Epoch 10/10\n",
            "600/600 [==============================] - 2s 3ms/step - loss: 0.1713 - accuracy: 0.9480\n",
            "313/313 [==============================] - 1s 2ms/step - loss: 0.1723 - accuracy: 0.9483\n"
          ]
        },
        {
          "output_type": "execute_result",
          "data": {
            "text/plain": [
              "[0.17226244509220123, 0.9483000040054321]"
            ]
          },
          "metadata": {},
          "execution_count": 21
        }
      ]
    },
    {
      "cell_type": "code",
      "source": [
        "aModel= keras.Sequential([\n",
        "    keras.Input(28*28),\n",
        "    keras.layers.Dense(100, activation= 'relu'),    \n",
        "    keras.layers.Dense(10,  activation= 'sigmoid')\n",
        "    ])\n",
        "\n",
        "aModel.compile(\n",
        "    loss=     'sparse_categorical_crossentropy',\n",
        "    metrics= ['accuracy']\n",
        "    )\n",
        "\n",
        "aModel.fit(xr1, yr, \n",
        "           epochs= 10, \n",
        "           batch_size= 100)\n",
        "\n",
        "aModel.evaluate(xt1, yt)"
      ],
      "metadata": {
        "colab": {
          "base_uri": "https://localhost:8080/"
        },
        "id": "LEJDMe5HpnLu",
        "outputId": "84668a01-d3c3-4cca-ad73-ab8e8a90f7ea"
      },
      "execution_count": 22,
      "outputs": [
        {
          "output_type": "stream",
          "name": "stdout",
          "text": [
            "Epoch 1/10\n",
            "600/600 [==============================] - 2s 2ms/step - loss: 3.6472 - accuracy: 0.8547\n",
            "Epoch 2/10\n",
            "600/600 [==============================] - 1s 2ms/step - loss: 0.5089 - accuracy: 0.9175\n",
            "Epoch 3/10\n",
            "600/600 [==============================] - 1s 2ms/step - loss: 0.3691 - accuracy: 0.9383\n",
            "Epoch 4/10\n",
            "600/600 [==============================] - 1s 2ms/step - loss: 0.3101 - accuracy: 0.9477\n",
            "Epoch 5/10\n",
            "600/600 [==============================] - 1s 2ms/step - loss: 0.2678 - accuracy: 0.9546\n",
            "Epoch 6/10\n",
            "600/600 [==============================] - 1s 2ms/step - loss: 0.2344 - accuracy: 0.9587\n",
            "Epoch 7/10\n",
            "600/600 [==============================] - 1s 2ms/step - loss: 0.2170 - accuracy: 0.9638\n",
            "Epoch 8/10\n",
            "600/600 [==============================] - 1s 2ms/step - loss: 0.1985 - accuracy: 0.9662\n",
            "Epoch 9/10\n",
            "600/600 [==============================] - 1s 2ms/step - loss: 0.1844 - accuracy: 0.9689\n",
            "Epoch 10/10\n",
            "600/600 [==============================] - 1s 2ms/step - loss: 0.1776 - accuracy: 0.9705\n",
            "313/313 [==============================] - 1s 2ms/step - loss: 0.4128 - accuracy: 0.9579\n"
          ]
        },
        {
          "output_type": "execute_result",
          "data": {
            "text/plain": [
              "[0.41284117102622986, 0.9578999876976013]"
            ]
          },
          "metadata": {},
          "execution_count": 22
        }
      ]
    },
    {
      "cell_type": "code",
      "source": [
        "aModel= keras.Sequential([\n",
        "    keras.Input(28*28),\n",
        "    keras.layers.Dense(100, activation= 'relu'),    \n",
        "    keras.layers.Dense(10,  activation= 'softmax')\n",
        "    ])\n",
        "\n",
        "aModel.compile(\n",
        "    loss=     'sparse_categorical_crossentropy',\n",
        "    metrics= ['accuracy']\n",
        "    )\n",
        "\n",
        "aModel.fit(xr1, yr, \n",
        "           epochs= 10, \n",
        "           batch_size= 100)\n",
        "\n",
        "aModel.evaluate(xt1, yt)"
      ],
      "metadata": {
        "colab": {
          "base_uri": "https://localhost:8080/"
        },
        "id": "1LD8k4RvpnOZ",
        "outputId": "8674a65a-3c28-4ee2-bb9c-46241d1dd766"
      },
      "execution_count": 23,
      "outputs": [
        {
          "output_type": "stream",
          "name": "stdout",
          "text": [
            "Epoch 1/10\n",
            "600/600 [==============================] - 2s 2ms/step - loss: 4.1927 - accuracy: 0.8690\n",
            "Epoch 2/10\n",
            "600/600 [==============================] - 1s 2ms/step - loss: 0.5691 - accuracy: 0.9189\n",
            "Epoch 3/10\n",
            "600/600 [==============================] - 1s 2ms/step - loss: 0.3605 - accuracy: 0.9372\n",
            "Epoch 4/10\n",
            "600/600 [==============================] - 1s 2ms/step - loss: 0.3028 - accuracy: 0.9487\n",
            "Epoch 5/10\n",
            "600/600 [==============================] - 1s 2ms/step - loss: 0.2604 - accuracy: 0.9548\n",
            "Epoch 6/10\n",
            "600/600 [==============================] - 1s 2ms/step - loss: 0.2317 - accuracy: 0.9604\n",
            "Epoch 7/10\n",
            "600/600 [==============================] - 1s 2ms/step - loss: 0.2143 - accuracy: 0.9650\n",
            "Epoch 8/10\n",
            "600/600 [==============================] - 1s 2ms/step - loss: 0.2004 - accuracy: 0.9660\n",
            "Epoch 9/10\n",
            "600/600 [==============================] - 1s 2ms/step - loss: 0.1857 - accuracy: 0.9691\n",
            "Epoch 10/10\n",
            "600/600 [==============================] - 1s 2ms/step - loss: 0.1751 - accuracy: 0.9703\n",
            "313/313 [==============================] - 1s 2ms/step - loss: 0.4651 - accuracy: 0.9536\n"
          ]
        },
        {
          "output_type": "execute_result",
          "data": {
            "text/plain": [
              "[0.46513238549232483, 0.9535999894142151]"
            ]
          },
          "metadata": {},
          "execution_count": 23
        }
      ]
    },
    {
      "cell_type": "code",
      "source": [
        "xr1= xr.reshape(-1,28*28) /255\n",
        "xt1= xt.reshape(-1,28*28) /255\n",
        "\n",
        "\n",
        "aModel= keras.Sequential([\n",
        "    keras.Input(28*28),\n",
        "    keras.layers.Dense(100, activation= 'relu'),    \n",
        "    keras.layers.Dense(10,  activation= 'softmax')\n",
        "    ])\n",
        "\n",
        "aModel.compile(\n",
        "    loss=     'sparse_categorical_crossentropy',\n",
        "    metrics= ['accuracy']\n",
        "    )\n",
        "\n",
        "aModel.fit(xr1, yr, \n",
        "           epochs= 10, \n",
        "           batch_size= 100)\n",
        "\n",
        "aModel.evaluate(xt1, yt)"
      ],
      "metadata": {
        "colab": {
          "base_uri": "https://localhost:8080/"
        },
        "id": "-zICf0cIpnRD",
        "outputId": "947ac31a-3a4f-4f49-d436-0b1328b7db8c"
      },
      "execution_count": 24,
      "outputs": [
        {
          "output_type": "stream",
          "name": "stdout",
          "text": [
            "Epoch 1/10\n",
            "600/600 [==============================] - 2s 2ms/step - loss: 0.3382 - accuracy: 0.9066\n",
            "Epoch 2/10\n",
            "600/600 [==============================] - 1s 2ms/step - loss: 0.1648 - accuracy: 0.9527\n",
            "Epoch 3/10\n",
            "600/600 [==============================] - 1s 2ms/step - loss: 0.1184 - accuracy: 0.9657\n",
            "Epoch 4/10\n",
            "600/600 [==============================] - 1s 2ms/step - loss: 0.0927 - accuracy: 0.9732\n",
            "Epoch 5/10\n",
            "600/600 [==============================] - 1s 2ms/step - loss: 0.0761 - accuracy: 0.9776\n",
            "Epoch 6/10\n",
            "600/600 [==============================] - 1s 2ms/step - loss: 0.0649 - accuracy: 0.9805\n",
            "Epoch 7/10\n",
            "600/600 [==============================] - 1s 2ms/step - loss: 0.0555 - accuracy: 0.9841\n",
            "Epoch 8/10\n",
            "600/600 [==============================] - 1s 2ms/step - loss: 0.0483 - accuracy: 0.9859\n",
            "Epoch 9/10\n",
            "600/600 [==============================] - 1s 2ms/step - loss: 0.0424 - accuracy: 0.9881\n",
            "Epoch 10/10\n",
            "600/600 [==============================] - 1s 2ms/step - loss: 0.0382 - accuracy: 0.9889\n",
            "313/313 [==============================] - 1s 3ms/step - loss: 0.0914 - accuracy: 0.9749\n"
          ]
        },
        {
          "output_type": "execute_result",
          "data": {
            "text/plain": [
              "[0.09142760187387466, 0.9749000072479248]"
            ]
          },
          "metadata": {},
          "execution_count": 24
        }
      ]
    },
    {
      "cell_type": "code",
      "source": [
        "aModel= keras.Sequential([\n",
        "    keras.Input(28*28),\n",
        "    keras.layers.Dense(200, activation= 'relu'),    \n",
        "    keras.layers.Dense(10,  activation= 'softmax')\n",
        "    ])\n",
        "\n",
        "aModel.compile(\n",
        "    loss=     'sparse_categorical_crossentropy',\n",
        "    metrics= ['accuracy']\n",
        "    )\n",
        "\n",
        "aModel.fit(xr1, yr, \n",
        "           epochs= 10, \n",
        "           batch_size= 100)\n",
        "\n",
        "aModel.evaluate(xt1, yt)"
      ],
      "metadata": {
        "colab": {
          "base_uri": "https://localhost:8080/"
        },
        "id": "KfpTzOefpnTs",
        "outputId": "e78cbbd6-17be-4262-d105-04643bcaad7e"
      },
      "execution_count": 25,
      "outputs": [
        {
          "output_type": "stream",
          "name": "stdout",
          "text": [
            "Epoch 1/10\n",
            "600/600 [==============================] - 2s 3ms/step - loss: 0.2879 - accuracy: 0.9194\n",
            "Epoch 2/10\n",
            "600/600 [==============================] - 1s 2ms/step - loss: 0.1269 - accuracy: 0.9624\n",
            "Epoch 3/10\n",
            "600/600 [==============================] - 2s 3ms/step - loss: 0.0873 - accuracy: 0.9745\n",
            "Epoch 4/10\n",
            "600/600 [==============================] - 1s 2ms/step - loss: 0.0666 - accuracy: 0.9802\n",
            "Epoch 5/10\n",
            "600/600 [==============================] - 1s 2ms/step - loss: 0.0535 - accuracy: 0.9845\n",
            "Epoch 6/10\n",
            "600/600 [==============================] - 1s 2ms/step - loss: 0.0444 - accuracy: 0.9870\n",
            "Epoch 7/10\n",
            "600/600 [==============================] - 2s 3ms/step - loss: 0.0365 - accuracy: 0.9894\n",
            "Epoch 8/10\n",
            "600/600 [==============================] - 1s 2ms/step - loss: 0.0302 - accuracy: 0.9911\n",
            "Epoch 9/10\n",
            "600/600 [==============================] - 1s 2ms/step - loss: 0.0255 - accuracy: 0.9928\n",
            "Epoch 10/10\n",
            "600/600 [==============================] - 1s 2ms/step - loss: 0.0211 - accuracy: 0.9941\n",
            "313/313 [==============================] - 1s 2ms/step - loss: 0.0702 - accuracy: 0.9816\n"
          ]
        },
        {
          "output_type": "execute_result",
          "data": {
            "text/plain": [
              "[0.07022886723279953, 0.9815999865531921]"
            ]
          },
          "metadata": {},
          "execution_count": 25
        }
      ]
    },
    {
      "cell_type": "code",
      "source": [
        "aModel= keras.Sequential([\n",
        "    keras.Input(28*28),\n",
        "    keras.layers.Dense(100, activation= 'relu'), \n",
        "    keras.layers.Dense(100, activation= 'relu'), \n",
        "    keras.layers.Dense(10,  activation= 'softmax')\n",
        "    ])\n",
        "\n",
        "aModel.compile(\n",
        "    loss=     'sparse_categorical_crossentropy',\n",
        "    metrics= ['accuracy']\n",
        "    )\n",
        "\n",
        "aModel.fit(xr1, yr, \n",
        "           epochs= 10, \n",
        "           batch_size= 100)\n",
        "\n",
        "aModel.evaluate(xt1, yt)"
      ],
      "metadata": {
        "colab": {
          "base_uri": "https://localhost:8080/"
        },
        "id": "fX20y5HnpnWb",
        "outputId": "74806c4c-4267-4641-caac-17b70a58e28a"
      },
      "execution_count": 26,
      "outputs": [
        {
          "output_type": "stream",
          "name": "stdout",
          "text": [
            "Epoch 1/10\n",
            "600/600 [==============================] - 2s 3ms/step - loss: 0.3058 - accuracy: 0.9117\n",
            "Epoch 2/10\n",
            "600/600 [==============================] - 2s 3ms/step - loss: 0.1312 - accuracy: 0.9606\n",
            "Epoch 3/10\n",
            "600/600 [==============================] - 2s 3ms/step - loss: 0.0915 - accuracy: 0.9717\n",
            "Epoch 4/10\n",
            "600/600 [==============================] - 2s 3ms/step - loss: 0.0730 - accuracy: 0.9777\n",
            "Epoch 5/10\n",
            "600/600 [==============================] - 2s 3ms/step - loss: 0.0568 - accuracy: 0.9824\n",
            "Epoch 6/10\n",
            "600/600 [==============================] - 2s 3ms/step - loss: 0.0478 - accuracy: 0.9852\n",
            "Epoch 7/10\n",
            "600/600 [==============================] - 2s 3ms/step - loss: 0.0405 - accuracy: 0.9872\n",
            "Epoch 8/10\n",
            "600/600 [==============================] - 2s 3ms/step - loss: 0.0342 - accuracy: 0.9899\n",
            "Epoch 9/10\n",
            "600/600 [==============================] - 2s 3ms/step - loss: 0.0289 - accuracy: 0.9909\n",
            "Epoch 10/10\n",
            "600/600 [==============================] - 2s 3ms/step - loss: 0.0261 - accuracy: 0.9917\n",
            "313/313 [==============================] - 1s 2ms/step - loss: 0.0866 - accuracy: 0.9793\n"
          ]
        },
        {
          "output_type": "execute_result",
          "data": {
            "text/plain": [
              "[0.0865967720746994, 0.9793000221252441]"
            ]
          },
          "metadata": {},
          "execution_count": 26
        }
      ]
    },
    {
      "cell_type": "code",
      "source": [
        "aModel.summary()\n",
        "\n",
        "keras.utils.plot_model(aModel, \n",
        "    show_shapes= True, \n",
        "    show_layer_activations= True)"
      ],
      "metadata": {
        "colab": {
          "base_uri": "https://localhost:8080/",
          "height": 682
        },
        "id": "YRu3yQmdqV5M",
        "outputId": "66eb565b-b14a-4381-cb44-408e1aa6b223"
      },
      "execution_count": 27,
      "outputs": [
        {
          "output_type": "stream",
          "name": "stdout",
          "text": [
            "Model: \"sequential_7\"\n",
            "_________________________________________________________________\n",
            " Layer (type)                Output Shape              Param #   \n",
            "=================================================================\n",
            " dense_14 (Dense)            (None, 100)               78500     \n",
            "                                                                 \n",
            " dense_15 (Dense)            (None, 100)               10100     \n",
            "                                                                 \n",
            " dense_16 (Dense)            (None, 10)                1010      \n",
            "                                                                 \n",
            "=================================================================\n",
            "Total params: 89,610\n",
            "Trainable params: 89,610\n",
            "Non-trainable params: 0\n",
            "_________________________________________________________________\n"
          ]
        },
        {
          "output_type": "execute_result",
          "data": {
            "image/png": "[encoded data removed]",
            "text/plain": [
              "<IPython.core.display.Image object>"
            ]
          },
          "metadata": {},
          "execution_count": 27
        }
      ]
    },
    {
      "cell_type": "markdown",
      "source": [
        "如何增加正確率(accuracy)?"
      ],
      "metadata": {
        "id": "5t0Diu_ys-yt"
      }
    },
    {
      "cell_type": "markdown",
      "source": [
        "1.增加更多數據\n",
        "\n",
        "2.添加更多的層(layer)\n",
        "\n",
        "3.更改圖像大小\n",
        "\n",
        "4.增加訓練輪次\n",
        "\n",
        "5.減少顏色通道\n",
        "\n",
        "6.轉移學習\n",
        "\n",
        "7.超參數"
      ],
      "metadata": {
        "id": "AuYW32-s3tSX"
      }
    },
    {
      "cell_type": "markdown",
      "source": [
        "我採取的方式是增加epochs的訓練次數至16，batch_size改至168"
      ],
      "metadata": {
        "id": "MNXJ3ZPytRLH"
      }
    },
    {
      "cell_type": "markdown",
      "source": [
        "## **實際測試**"
      ],
      "metadata": {
        "id": "wcfpHP5f4W--"
      }
    },
    {
      "cell_type": "code",
      "source": [
        "x= xr[7]\n",
        "#%%\n",
        "for i in range(28):\n",
        "    for j in range(28):\n",
        "        z= x[i,j]\n",
        "        print(f'{z:3d}', end='')\n",
        "    print()"
      ],
      "metadata": {
        "colab": {
          "base_uri": "https://localhost:8080/"
        },
        "id": "X3jIfaksuwyJ",
        "outputId": "100f973f-815c-4b45-a3f6-30f45c8d780c"
      },
      "execution_count": 29,
      "outputs": [
        {
          "output_type": "stream",
          "name": "stdout",
          "text": [
            "  0  0  0  0  0  0  0  0  0  0  0  0  0  0  0  0  0  0  0  0  0  0  0  0  0  0  0  0\n",
            "  0  0  0  0  0  0  0  0  0  0  0  0  0  0  0  0  0  0  0  0  0  0  0  0  0  0  0  0\n",
            "  0  0  0  0  0  0  0  0  0  0  0  0  0  0  0  0  0  0  0  0  0  0  0  0  0  0  0  0\n",
            "  0  0  0  0  0  0  0  0  0  0  0  0  0  0  0  0  0  0  0  0  0  0  0  0  0  0  0  0\n",
            "  0  0  0  0  0  0  0  0  0  0  0  0  0  0  0  0  0  0  0  0  0  0  0  0  0  0  0  0\n",
            "  0  0  0  0  0  0  0  0  0  0  0 38 43105255253253253253253174  6  0  0  0  0  0  0\n",
            "  0  0  0  0  0  0  0  0  0 43139224226252253252252252252252252158 14  0  0  0  0  0\n",
            "  0  0  0  0  0  0  0  0  0178252252252252253252252252252252252252 59  0  0  0  0  0\n",
            "  0  0  0  0  0  0  0  0  0109252252230132133132132189252252252252 59  0  0  0  0  0\n",
            "  0  0  0  0  0  0  0  0  0  4 29 29 24  0  0  0  0 14226252252172  7  0  0  0  0  0\n",
            "  0  0  0  0  0  0  0  0  0  0  0  0  0  0  0  0  0 85243252252144  0  0  0  0  0  0\n",
            "  0  0  0  0  0  0  0  0  0  0  0  0  0  0  0  0 88189252252252 14  0  0  0  0  0  0\n",
            "  0  0  0  0  0  0  0  0  0  0  0  0  0  0 91212247252252252204  9  0  0  0  0  0  0\n",
            "  0  0  0  0  0  0  0  0  0 32125193193193253252252252238102 28  0  0  0  0  0  0  0\n",
            "  0  0  0  0  0  0  0  0 45222252252252252253252252252177  0  0  0  0  0  0  0  0  0\n",
            "  0  0  0  0  0  0  0  0 45223253253253253255253253253253 74  0  0  0  0  0  0  0  0\n",
            "  0  0  0  0  0  0  0  0  0 31123 52 44 44 44 44143252252 74  0  0  0  0  0  0  0  0\n",
            "  0  0  0  0  0  0  0  0  0  0  0  0  0  0  0  0 15252252 74  0  0  0  0  0  0  0  0\n",
            "  0  0  0  0  0  0  0  0  0  0  0  0  0  0  0  0 86252252 74  0  0  0  0  0  0  0  0\n",
            "  0  0  0  0  0  0  5 75  9  0  0  0  0  0  0 98242252252 74  0  0  0  0  0  0  0  0\n",
            "  0  0  0  0  0 61183252 29  0  0  0  0 18 92239252252243 65  0  0  0  0  0  0  0  0\n",
            "  0  0  0  0  0208252252147134134134134203253252252188 83  0  0  0  0  0  0  0  0  0\n",
            "  0  0  0  0  0208252252252252252252252252253230153  8  0  0  0  0  0  0  0  0  0  0\n",
            "  0  0  0  0  0 49157252252252252252217207146 45  0  0  0  0  0  0  0  0  0  0  0  0\n",
            "  0  0  0  0  0  0  7103235252172103 24  0  0  0  0  0  0  0  0  0  0  0  0  0  0  0\n",
            "  0  0  0  0  0  0  0  0  0  0  0  0  0  0  0  0  0  0  0  0  0  0  0  0  0  0  0  0\n",
            "  0  0  0  0  0  0  0  0  0  0  0  0  0  0  0  0  0  0  0  0  0  0  0  0  0  0  0  0\n",
            "  0  0  0  0  0  0  0  0  0  0  0  0  0  0  0  0  0  0  0  0  0  0  0  0  0  0  0  0\n"
          ]
        }
      ]
    },
    {
      "cell_type": "code",
      "source": [
        "import matplotlib.pyplot as pl\n",
        "pl.imshow(x)"
      ],
      "metadata": {
        "colab": {
          "base_uri": "https://localhost:8080/",
          "height": 282
        },
        "id": "b4pc-m5guyji",
        "outputId": "a8235160-7c5d-4436-e516-cae96410924e"
      },
      "execution_count": 30,
      "outputs": [
        {
          "output_type": "execute_result",
          "data": {
            "text/plain": [
              "<matplotlib.image.AxesImage at 0x7f0ece7ad590>"
            ]
          },
          "metadata": {},
          "execution_count": 30
        },
        {
          "output_type": "display_data",
          "data": {
            "text/plain": [
              "<Figure size 432x288 with 1 Axes>"
            ],
            "image/png": "[encoded data removed]"
          },
          "metadata": {
            "needs_background": "light"
          }
        }
      ]
    },
    {
      "cell_type": "code",
      "source": [
        "xr1= xr.reshape(-1, 28*28) \n",
        "xt1= xt.reshape(-1, 28*28) "
      ],
      "metadata": {
        "id": "bJV7e-S_uyl4"
      },
      "execution_count": 31,
      "outputs": []
    },
    {
      "cell_type": "code",
      "source": [
        "aModel= keras.Sequential([\n",
        "    keras.Input(28*28),\n",
        "    keras.layers.Dense(100),    \n",
        "    keras.layers.Dense(10)   \n",
        "    ])\n",
        "\n",
        "aModel.compile(\n",
        "    loss=     'sparse_categorical_crossentropy',\n",
        "    metrics= ['accuracy']\n",
        "    )"
      ],
      "metadata": {
        "id": "TdjXMGpSuyoN"
      },
      "execution_count": 32,
      "outputs": []
    },
    {
      "cell_type": "code",
      "source": [
        "aModel.summary()\n",
        "\n",
        "keras.utils.plot_model(aModel, \n",
        "    show_shapes= True, \n",
        "    show_layer_activations= True)"
      ],
      "metadata": {
        "colab": {
          "base_uri": "https://localhost:8080/",
          "height": 538
        },
        "id": "4poX4TZfuyqx",
        "outputId": "00d7f648-8f43-4203-d17b-e42c65c1eb69"
      },
      "execution_count": 33,
      "outputs": [
        {
          "output_type": "stream",
          "name": "stdout",
          "text": [
            "Model: \"sequential_8\"\n",
            "_________________________________________________________________\n",
            " Layer (type)                Output Shape              Param #   \n",
            "=================================================================\n",
            " dense_17 (Dense)            (None, 100)               78500     \n",
            "                                                                 \n",
            " dense_18 (Dense)            (None, 10)                1010      \n",
            "                                                                 \n",
            "=================================================================\n",
            "Total params: 79,510\n",
            "Trainable params: 79,510\n",
            "Non-trainable params: 0\n",
            "_________________________________________________________________\n"
          ]
        },
        {
          "output_type": "execute_result",
          "data": {
            "image/png": "[encoded data removed]",
            "text/plain": [
              "<IPython.core.display.Image object>"
            ]
          },
          "metadata": {},
          "execution_count": 33
        }
      ]
    },
    {
      "cell_type": "code",
      "source": [
        "aModel.fit(xr1, yr, \n",
        "           epochs= 16, \n",
        "           batch_size= 168)\n",
        "\n",
        "aModel.evaluate(xt1, yt)"
      ],
      "metadata": {
        "colab": {
          "base_uri": "https://localhost:8080/"
        },
        "id": "zdi-MnP3uytN",
        "outputId": "a9cd461a-508c-4e70-8298-2a894f5532f0"
      },
      "execution_count": 72,
      "outputs": [
        {
          "output_type": "stream",
          "name": "stdout",
          "text": [
            "Epoch 1/16\n",
            "358/358 [==============================] - 1s 3ms/step - loss: 0.0088 - accuracy: 0.9974\n",
            "Epoch 2/16\n",
            "358/358 [==============================] - 1s 3ms/step - loss: 0.0074 - accuracy: 0.9977\n",
            "Epoch 3/16\n",
            "358/358 [==============================] - 1s 3ms/step - loss: 0.0065 - accuracy: 0.9980\n",
            "Epoch 4/16\n",
            "358/358 [==============================] - 1s 3ms/step - loss: 0.0066 - accuracy: 0.9978\n",
            "Epoch 5/16\n",
            "358/358 [==============================] - 1s 3ms/step - loss: 0.0055 - accuracy: 0.9983\n",
            "Epoch 6/16\n",
            "358/358 [==============================] - 1s 3ms/step - loss: 0.0045 - accuracy: 0.9985\n",
            "Epoch 7/16\n",
            "358/358 [==============================] - 1s 3ms/step - loss: 0.0038 - accuracy: 0.9988\n",
            "Epoch 8/16\n",
            "358/358 [==============================] - 1s 3ms/step - loss: 0.0033 - accuracy: 0.9991\n",
            "Epoch 9/16\n",
            "358/358 [==============================] - 1s 3ms/step - loss: 0.0033 - accuracy: 0.9990\n",
            "Epoch 10/16\n",
            "358/358 [==============================] - 1s 3ms/step - loss: 0.0025 - accuracy: 0.9992\n",
            "Epoch 11/16\n",
            "358/358 [==============================] - 1s 3ms/step - loss: 0.0025 - accuracy: 0.9993\n",
            "Epoch 12/16\n",
            "358/358 [==============================] - 1s 3ms/step - loss: 0.0019 - accuracy: 0.9996\n",
            "Epoch 13/16\n",
            "358/358 [==============================] - 1s 3ms/step - loss: 0.0018 - accuracy: 0.9995\n",
            "Epoch 14/16\n",
            "358/358 [==============================] - 1s 3ms/step - loss: 0.0020 - accuracy: 0.9993\n",
            "Epoch 15/16\n",
            "358/358 [==============================] - 1s 3ms/step - loss: 0.0015 - accuracy: 0.9996\n",
            "Epoch 16/16\n",
            "358/358 [==============================] - 1s 3ms/step - loss: 0.0018 - accuracy: 0.9995\n",
            "313/313 [==============================] - 1s 2ms/step - loss: 0.1360 - accuracy: 0.9790\n"
          ]
        },
        {
          "output_type": "execute_result",
          "data": {
            "text/plain": [
              "[0.13596317172050476, 0.9789999723434448]"
            ]
          },
          "metadata": {},
          "execution_count": 72
        }
      ]
    },
    {
      "cell_type": "code",
      "source": [
        "aModel= keras.Sequential([\n",
        "    keras.Input(28*28),\n",
        "    keras.layers.Dense(100, activation= 'sigmoid'),    \n",
        "    keras.layers.Dense(10)   \n",
        "    ])\n",
        "\n",
        "aModel.compile(\n",
        "    loss=     'sparse_categorical_crossentropy',\n",
        "    metrics= ['accuracy']\n",
        "    )\n",
        "\n",
        "aModel.fit(xr1, yr, \n",
        "           epochs= 16, \n",
        "           batch_size= 168)\n",
        "\n",
        "aModel.evaluate(xt1, yt)"
      ],
      "metadata": {
        "colab": {
          "base_uri": "https://localhost:8080/"
        },
        "id": "p-1ev_MEuyv3",
        "outputId": "24bb28f3-67ac-439c-efa3-32479a0dc04a"
      },
      "execution_count": 73,
      "outputs": [
        {
          "output_type": "stream",
          "name": "stdout",
          "text": [
            "Epoch 1/16\n",
            "358/358 [==============================] - 1s 3ms/step - loss: 2.4083 - accuracy: 0.1456\n",
            "Epoch 2/16\n",
            "358/358 [==============================] - 1s 3ms/step - loss: 2.3026 - accuracy: 0.1443\n",
            "Epoch 3/16\n",
            "358/358 [==============================] - 1s 3ms/step - loss: 2.3026 - accuracy: 0.1443\n",
            "Epoch 4/16\n",
            "358/358 [==============================] - 1s 3ms/step - loss: 2.3026 - accuracy: 0.1443\n",
            "Epoch 5/16\n",
            "358/358 [==============================] - 1s 3ms/step - loss: 2.3026 - accuracy: 0.1443\n",
            "Epoch 6/16\n",
            "358/358 [==============================] - 1s 3ms/step - loss: 2.3026 - accuracy: 0.1443\n",
            "Epoch 7/16\n",
            "358/358 [==============================] - 1s 3ms/step - loss: 2.3026 - accuracy: 0.1443\n",
            "Epoch 8/16\n",
            "358/358 [==============================] - 1s 3ms/step - loss: 2.3026 - accuracy: 0.1443\n",
            "Epoch 9/16\n",
            "358/358 [==============================] - 1s 3ms/step - loss: 2.3026 - accuracy: 0.1443\n",
            "Epoch 10/16\n",
            "358/358 [==============================] - 1s 3ms/step - loss: 2.3026 - accuracy: 0.1443\n",
            "Epoch 11/16\n",
            "358/358 [==============================] - 1s 3ms/step - loss: 2.3026 - accuracy: 0.1443\n",
            "Epoch 12/16\n",
            "358/358 [==============================] - 1s 3ms/step - loss: 2.3026 - accuracy: 0.1443\n",
            "Epoch 13/16\n",
            "358/358 [==============================] - 1s 3ms/step - loss: 2.3026 - accuracy: 0.1443\n",
            "Epoch 14/16\n",
            "358/358 [==============================] - 1s 3ms/step - loss: 2.3026 - accuracy: 0.1443\n",
            "Epoch 15/16\n",
            "358/358 [==============================] - 1s 3ms/step - loss: 2.3026 - accuracy: 0.1443\n",
            "Epoch 16/16\n",
            "358/358 [==============================] - 1s 3ms/step - loss: 2.3026 - accuracy: 0.1443\n",
            "313/313 [==============================] - 1s 2ms/step - loss: 2.3026 - accuracy: 0.1492\n"
          ]
        },
        {
          "output_type": "execute_result",
          "data": {
            "text/plain": [
              "[2.30259108543396, 0.14920000731945038]"
            ]
          },
          "metadata": {},
          "execution_count": 73
        }
      ]
    },
    {
      "cell_type": "code",
      "source": [
        "aModel= keras.Sequential([\n",
        "    keras.Input(28*28),\n",
        "    keras.layers.Dense(100, activation= 'sigmoid'),    \n",
        "    keras.layers.Dense(10,  activation= 'sigmoid')\n",
        "    ])\n",
        "\n",
        "aModel.compile(\n",
        "    loss=     'sparse_categorical_crossentropy',\n",
        "    metrics= ['accuracy']\n",
        "    )\n",
        "\n",
        "aModel.fit(xr1, yr, \n",
        "           epochs= 16, \n",
        "           batch_size= 168)\n",
        "\n",
        "aModel.evaluate(xt1, yt)"
      ],
      "metadata": {
        "colab": {
          "base_uri": "https://localhost:8080/"
        },
        "id": "Z-hFgJG-uyyO",
        "outputId": "d62e7613-e43a-43ec-b0ba-4222341b2406"
      },
      "execution_count": 75,
      "outputs": [
        {
          "output_type": "stream",
          "name": "stdout",
          "text": [
            "Epoch 1/16\n",
            "358/358 [==============================] - 1s 3ms/step - loss: 0.6142 - accuracy: 0.8630\n",
            "Epoch 2/16\n",
            "358/358 [==============================] - 1s 3ms/step - loss: 0.2751 - accuracy: 0.9222\n",
            "Epoch 3/16\n",
            "358/358 [==============================] - 1s 3ms/step - loss: 0.2211 - accuracy: 0.9375\n",
            "Epoch 4/16\n",
            "358/358 [==============================] - 1s 3ms/step - loss: 0.1879 - accuracy: 0.9463\n",
            "Epoch 5/16\n",
            "358/358 [==============================] - 1s 3ms/step - loss: 0.1641 - accuracy: 0.9532\n",
            "Epoch 6/16\n",
            "358/358 [==============================] - 1s 3ms/step - loss: 0.1462 - accuracy: 0.9582\n",
            "Epoch 7/16\n",
            "358/358 [==============================] - 1s 3ms/step - loss: 0.1309 - accuracy: 0.9630\n",
            "Epoch 8/16\n",
            "358/358 [==============================] - 1s 3ms/step - loss: 0.1185 - accuracy: 0.9670\n",
            "Epoch 9/16\n",
            "358/358 [==============================] - 1s 3ms/step - loss: 0.1081 - accuracy: 0.9693\n",
            "Epoch 10/16\n",
            "358/358 [==============================] - 1s 3ms/step - loss: 0.0993 - accuracy: 0.9721\n",
            "Epoch 11/16\n",
            "358/358 [==============================] - 1s 3ms/step - loss: 0.0916 - accuracy: 0.9744\n",
            "Epoch 12/16\n",
            "358/358 [==============================] - 1s 3ms/step - loss: 0.0849 - accuracy: 0.9765\n",
            "Epoch 13/16\n",
            "358/358 [==============================] - 1s 3ms/step - loss: 0.0789 - accuracy: 0.9783\n",
            "Epoch 14/16\n",
            "358/358 [==============================] - 1s 3ms/step - loss: 0.0735 - accuracy: 0.9799\n",
            "Epoch 15/16\n",
            "358/358 [==============================] - 1s 3ms/step - loss: 0.0686 - accuracy: 0.9812\n",
            "Epoch 16/16\n",
            "358/358 [==============================] - 1s 3ms/step - loss: 0.0641 - accuracy: 0.9825\n",
            "313/313 [==============================] - 1s 2ms/step - loss: 0.0925 - accuracy: 0.9721\n"
          ]
        },
        {
          "output_type": "execute_result",
          "data": {
            "text/plain": [
              "[0.09247925877571106, 0.972100019454956]"
            ]
          },
          "metadata": {},
          "execution_count": 75
        }
      ]
    },
    {
      "cell_type": "code",
      "source": [
        "aModel= keras.Sequential([\n",
        "    keras.Input(28*28),\n",
        "    keras.layers.Dense(100, activation= 'relu'),    \n",
        "    keras.layers.Dense(10,  activation= 'sigmoid')\n",
        "    ])\n",
        "\n",
        "aModel.compile(\n",
        "    loss=     'sparse_categorical_crossentropy',\n",
        "    metrics= ['accuracy']\n",
        "    )\n",
        "\n",
        "aModel.fit(xr1, yr, \n",
        "           epochs= 16, \n",
        "           batch_size= 168)\n",
        "\n",
        "aModel.evaluate(xt1, yt)"
      ],
      "metadata": {
        "colab": {
          "base_uri": "https://localhost:8080/"
        },
        "id": "b2k3Q_wnuy0m",
        "outputId": "6ae5861e-536f-4d4d-9921-69c684bafe96"
      },
      "execution_count": 74,
      "outputs": [
        {
          "output_type": "stream",
          "name": "stdout",
          "text": [
            "Epoch 1/16\n",
            "358/358 [==============================] - 2s 3ms/step - loss: 0.3746 - accuracy: 0.8979\n",
            "Epoch 2/16\n",
            "358/358 [==============================] - 1s 3ms/step - loss: 0.1860 - accuracy: 0.9475\n",
            "Epoch 3/16\n",
            "358/358 [==============================] - 1s 3ms/step - loss: 0.1357 - accuracy: 0.9610\n",
            "Epoch 4/16\n",
            "358/358 [==============================] - 1s 3ms/step - loss: 0.1073 - accuracy: 0.9688\n",
            "Epoch 5/16\n",
            "358/358 [==============================] - 1s 3ms/step - loss: 0.0884 - accuracy: 0.9741\n",
            "Epoch 6/16\n",
            "358/358 [==============================] - 1s 3ms/step - loss: 0.0749 - accuracy: 0.9779\n",
            "Epoch 7/16\n",
            "358/358 [==============================] - 1s 3ms/step - loss: 0.0647 - accuracy: 0.9811\n",
            "Epoch 8/16\n",
            "358/358 [==============================] - 1s 3ms/step - loss: 0.0568 - accuracy: 0.9833\n",
            "Epoch 9/16\n",
            "358/358 [==============================] - 1s 3ms/step - loss: 0.0499 - accuracy: 0.9858\n",
            "Epoch 10/16\n",
            "358/358 [==============================] - 1s 4ms/step - loss: 0.0446 - accuracy: 0.9868\n",
            "Epoch 11/16\n",
            "358/358 [==============================] - 2s 4ms/step - loss: 0.0393 - accuracy: 0.9888\n",
            "Epoch 12/16\n",
            "358/358 [==============================] - 1s 3ms/step - loss: 0.0355 - accuracy: 0.9904\n",
            "Epoch 13/16\n",
            "358/358 [==============================] - 1s 3ms/step - loss: 0.0313 - accuracy: 0.9916\n",
            "Epoch 14/16\n",
            "358/358 [==============================] - 1s 3ms/step - loss: 0.0279 - accuracy: 0.9927\n",
            "Epoch 15/16\n",
            "358/358 [==============================] - 1s 3ms/step - loss: 0.0250 - accuracy: 0.9934\n",
            "Epoch 16/16\n",
            "358/358 [==============================] - 1s 3ms/step - loss: 0.0221 - accuracy: 0.9941\n",
            "313/313 [==============================] - 1s 2ms/step - loss: 0.0786 - accuracy: 0.9771\n"
          ]
        },
        {
          "output_type": "execute_result",
          "data": {
            "text/plain": [
              "[0.07857892662286758, 0.9771000146865845]"
            ]
          },
          "metadata": {},
          "execution_count": 74
        }
      ]
    },
    {
      "cell_type": "code",
      "source": [
        "aModel= keras.Sequential([\n",
        "    keras.Input(28*28),\n",
        "    keras.layers.Dense(100, activation= 'relu'),    \n",
        "    keras.layers.Dense(10,  activation= 'softmax')\n",
        "    ])\n",
        "\n",
        "aModel.compile(\n",
        "    loss=     'sparse_categorical_crossentropy',\n",
        "    metrics= ['accuracy']\n",
        "    )\n",
        "\n",
        "aModel.fit(xr1, yr, \n",
        "           epochs= 16, \n",
        "           batch_size= 168)\n",
        "\n",
        "aModel.evaluate(xt1, yt)"
      ],
      "metadata": {
        "colab": {
          "base_uri": "https://localhost:8080/"
        },
        "id": "QTIoconGuy3C",
        "outputId": "78afb01b-7455-41b1-d60f-880fc6a557ff"
      },
      "execution_count": 76,
      "outputs": [
        {
          "output_type": "stream",
          "name": "stdout",
          "text": [
            "Epoch 1/16\n",
            "358/358 [==============================] - 1s 3ms/step - loss: 0.3653 - accuracy: 0.9017\n",
            "Epoch 2/16\n",
            "358/358 [==============================] - 1s 3ms/step - loss: 0.1800 - accuracy: 0.9491\n",
            "Epoch 3/16\n",
            "358/358 [==============================] - 1s 3ms/step - loss: 0.1332 - accuracy: 0.9617\n",
            "Epoch 4/16\n",
            "358/358 [==============================] - 1s 3ms/step - loss: 0.1065 - accuracy: 0.9693\n",
            "Epoch 5/16\n",
            "358/358 [==============================] - 1s 3ms/step - loss: 0.0882 - accuracy: 0.9745\n",
            "Epoch 6/16\n",
            "358/358 [==============================] - 1s 3ms/step - loss: 0.0759 - accuracy: 0.9779\n",
            "Epoch 7/16\n",
            "358/358 [==============================] - 1s 3ms/step - loss: 0.0668 - accuracy: 0.9808\n",
            "Epoch 8/16\n",
            "358/358 [==============================] - 1s 3ms/step - loss: 0.0585 - accuracy: 0.9830\n",
            "Epoch 9/16\n",
            "358/358 [==============================] - 1s 3ms/step - loss: 0.0520 - accuracy: 0.9849\n",
            "Epoch 10/16\n",
            "358/358 [==============================] - 1s 3ms/step - loss: 0.0464 - accuracy: 0.9868\n",
            "Epoch 11/16\n",
            "358/358 [==============================] - 1s 3ms/step - loss: 0.0411 - accuracy: 0.9887\n",
            "Epoch 12/16\n",
            "358/358 [==============================] - 1s 3ms/step - loss: 0.0372 - accuracy: 0.9895\n",
            "Epoch 13/16\n",
            "358/358 [==============================] - 1s 3ms/step - loss: 0.0335 - accuracy: 0.9906\n",
            "Epoch 14/16\n",
            "358/358 [==============================] - 1s 3ms/step - loss: 0.0296 - accuracy: 0.9919\n",
            "Epoch 15/16\n",
            "358/358 [==============================] - 1s 3ms/step - loss: 0.0269 - accuracy: 0.9929\n",
            "Epoch 16/16\n",
            "358/358 [==============================] - 1s 3ms/step - loss: 0.0241 - accuracy: 0.9937\n",
            "313/313 [==============================] - 1s 2ms/step - loss: 0.0761 - accuracy: 0.9780\n"
          ]
        },
        {
          "output_type": "execute_result",
          "data": {
            "text/plain": [
              "[0.07610859721899033, 0.9779999852180481]"
            ]
          },
          "metadata": {},
          "execution_count": 76
        }
      ]
    },
    {
      "cell_type": "code",
      "source": [
        "xr1= xr.reshape(-1,28*28) /255\n",
        "xt1= xt.reshape(-1,28*28) /255\n",
        "\n",
        "\n",
        "aModel= keras.Sequential([\n",
        "    keras.Input(28*28),\n",
        "    keras.layers.Dense(100, activation= 'relu'),    \n",
        "    keras.layers.Dense(10,  activation= 'softmax')\n",
        "    ])\n",
        "\n",
        "aModel.compile(\n",
        "    loss=     'sparse_categorical_crossentropy',\n",
        "    metrics= ['accuracy']\n",
        "    )\n",
        "\n",
        "aModel.fit(xr1, yr, \n",
        "           epochs= 16, \n",
        "           batch_size= 168)\n",
        "\n",
        "aModel.evaluate(xt1, yt)"
      ],
      "metadata": {
        "colab": {
          "base_uri": "https://localhost:8080/"
        },
        "id": "Y_1cKEPOvNoI",
        "outputId": "e51bb251-fd9f-4049-a5d8-dbd6b0528043"
      },
      "execution_count": 77,
      "outputs": [
        {
          "output_type": "stream",
          "name": "stdout",
          "text": [
            "Epoch 1/16\n",
            "358/358 [==============================] - 1s 3ms/step - loss: 0.3754 - accuracy: 0.8991\n",
            "Epoch 2/16\n",
            "358/358 [==============================] - 1s 3ms/step - loss: 0.1884 - accuracy: 0.9459\n",
            "Epoch 3/16\n",
            "358/358 [==============================] - 1s 3ms/step - loss: 0.1400 - accuracy: 0.9596\n",
            "Epoch 4/16\n",
            "358/358 [==============================] - 1s 3ms/step - loss: 0.1104 - accuracy: 0.9678\n",
            "Epoch 5/16\n",
            "358/358 [==============================] - 1s 3ms/step - loss: 0.0918 - accuracy: 0.9734\n",
            "Epoch 6/16\n",
            "358/358 [==============================] - 1s 3ms/step - loss: 0.0784 - accuracy: 0.9771\n",
            "Epoch 7/16\n",
            "358/358 [==============================] - 1s 3ms/step - loss: 0.0672 - accuracy: 0.9809\n",
            "Epoch 8/16\n",
            "358/358 [==============================] - 1s 3ms/step - loss: 0.0598 - accuracy: 0.9830\n",
            "Epoch 9/16\n",
            "358/358 [==============================] - 1s 3ms/step - loss: 0.0529 - accuracy: 0.9847\n",
            "Epoch 10/16\n",
            "358/358 [==============================] - 1s 3ms/step - loss: 0.0469 - accuracy: 0.9861\n",
            "Epoch 11/16\n",
            "358/358 [==============================] - 1s 3ms/step - loss: 0.0423 - accuracy: 0.9883\n",
            "Epoch 12/16\n",
            "358/358 [==============================] - 1s 3ms/step - loss: 0.0377 - accuracy: 0.9895\n",
            "Epoch 13/16\n",
            "358/358 [==============================] - 1s 3ms/step - loss: 0.0336 - accuracy: 0.9906\n",
            "Epoch 14/16\n",
            "358/358 [==============================] - 1s 3ms/step - loss: 0.0303 - accuracy: 0.9918\n",
            "Epoch 15/16\n",
            "358/358 [==============================] - 1s 3ms/step - loss: 0.0275 - accuracy: 0.9929\n",
            "Epoch 16/16\n",
            "358/358 [==============================] - 1s 3ms/step - loss: 0.0245 - accuracy: 0.9935\n",
            "313/313 [==============================] - 1s 2ms/step - loss: 0.0749 - accuracy: 0.9789\n"
          ]
        },
        {
          "output_type": "execute_result",
          "data": {
            "text/plain": [
              "[0.07488439232110977, 0.9789000153541565]"
            ]
          },
          "metadata": {},
          "execution_count": 77
        }
      ]
    },
    {
      "cell_type": "code",
      "source": [
        "aModel= keras.Sequential([\n",
        "    keras.Input(28*28),\n",
        "    keras.layers.Dense(200, activation= 'relu'),    \n",
        "    keras.layers.Dense(10,  activation= 'softmax')\n",
        "    ])\n",
        "\n",
        "aModel.compile(\n",
        "    loss=     'sparse_categorical_crossentropy',\n",
        "    metrics= ['accuracy']\n",
        "    )\n",
        "\n",
        "aModel.fit(xr1, yr, \n",
        "           epochs= 16, \n",
        "           batch_size= 168)\n",
        "\n",
        "aModel.evaluate(xt1, yt)"
      ],
      "metadata": {
        "colab": {
          "base_uri": "https://localhost:8080/"
        },
        "id": "Af9DdZFHvNqo",
        "outputId": "835d96da-80f4-45de-e312-1d4168484d47"
      },
      "execution_count": 78,
      "outputs": [
        {
          "output_type": "stream",
          "name": "stdout",
          "text": [
            "Epoch 1/16\n",
            "358/358 [==============================] - 1s 3ms/step - loss: 0.3336 - accuracy: 0.9074\n",
            "Epoch 2/16\n",
            "358/358 [==============================] - 1s 3ms/step - loss: 0.1508 - accuracy: 0.9564\n",
            "Epoch 3/16\n",
            "358/358 [==============================] - 1s 3ms/step - loss: 0.1045 - accuracy: 0.9700\n",
            "Epoch 4/16\n",
            "358/358 [==============================] - 1s 3ms/step - loss: 0.0798 - accuracy: 0.9767\n",
            "Epoch 5/16\n",
            "358/358 [==============================] - 1s 3ms/step - loss: 0.0635 - accuracy: 0.9816\n",
            "Epoch 6/16\n",
            "358/358 [==============================] - 1s 3ms/step - loss: 0.0522 - accuracy: 0.9847\n",
            "Epoch 7/16\n",
            "358/358 [==============================] - 1s 3ms/step - loss: 0.0429 - accuracy: 0.9877\n",
            "Epoch 8/16\n",
            "358/358 [==============================] - 1s 3ms/step - loss: 0.0354 - accuracy: 0.9902\n",
            "Epoch 9/16\n",
            "358/358 [==============================] - 1s 3ms/step - loss: 0.0301 - accuracy: 0.9916\n",
            "Epoch 10/16\n",
            "358/358 [==============================] - 1s 3ms/step - loss: 0.0253 - accuracy: 0.9933\n",
            "Epoch 11/16\n",
            "358/358 [==============================] - 1s 3ms/step - loss: 0.0212 - accuracy: 0.9942\n",
            "Epoch 12/16\n",
            "358/358 [==============================] - 1s 3ms/step - loss: 0.0180 - accuracy: 0.9952\n",
            "Epoch 13/16\n",
            "358/358 [==============================] - 1s 3ms/step - loss: 0.0150 - accuracy: 0.9965\n",
            "Epoch 14/16\n",
            "358/358 [==============================] - 1s 3ms/step - loss: 0.0122 - accuracy: 0.9971\n",
            "Epoch 15/16\n",
            "358/358 [==============================] - 1s 3ms/step - loss: 0.0107 - accuracy: 0.9975\n",
            "Epoch 16/16\n",
            "358/358 [==============================] - 1s 3ms/step - loss: 0.0086 - accuracy: 0.9980\n",
            "313/313 [==============================] - 1s 2ms/step - loss: 0.0783 - accuracy: 0.9795\n"
          ]
        },
        {
          "output_type": "execute_result",
          "data": {
            "text/plain": [
              "[0.07825241982936859, 0.9794999957084656]"
            ]
          },
          "metadata": {},
          "execution_count": 78
        }
      ]
    },
    {
      "cell_type": "code",
      "source": [
        "aModel= keras.Sequential([\n",
        "    keras.Input(28*28),\n",
        "    keras.layers.Dense(100, activation= 'relu'), \n",
        "    keras.layers.Dense(100, activation= 'relu'), \n",
        "    keras.layers.Dense(10,  activation= 'softmax')\n",
        "    ])\n",
        "\n",
        "aModel.compile(\n",
        "    loss=     'sparse_categorical_crossentropy',\n",
        "    metrics= ['accuracy']\n",
        "    )\n",
        "\n",
        "aModel.fit(xr1, yr, \n",
        "           epochs= 16, \n",
        "           batch_size= 168)\n",
        "\n",
        "aModel.evaluate(xt1, yt)"
      ],
      "metadata": {
        "colab": {
          "base_uri": "https://localhost:8080/"
        },
        "id": "FrpU_rItvNs0",
        "outputId": "c8c3fd79-a501-428d-a7e2-0b019bceecc8"
      },
      "execution_count": 79,
      "outputs": [
        {
          "output_type": "stream",
          "name": "stdout",
          "text": [
            "Epoch 1/16\n",
            "358/358 [==============================] - 2s 3ms/step - loss: 0.3524 - accuracy: 0.9003\n",
            "Epoch 2/16\n",
            "358/358 [==============================] - 1s 3ms/step - loss: 0.1550 - accuracy: 0.9539\n",
            "Epoch 3/16\n",
            "358/358 [==============================] - 1s 3ms/step - loss: 0.1097 - accuracy: 0.9665\n",
            "Epoch 4/16\n",
            "358/358 [==============================] - 1s 3ms/step - loss: 0.0855 - accuracy: 0.9738\n",
            "Epoch 5/16\n",
            "358/358 [==============================] - 1s 3ms/step - loss: 0.0686 - accuracy: 0.9785\n",
            "Epoch 6/16\n",
            "358/358 [==============================] - 1s 3ms/step - loss: 0.0568 - accuracy: 0.9827\n",
            "Epoch 7/16\n",
            "358/358 [==============================] - 1s 3ms/step - loss: 0.0477 - accuracy: 0.9857\n",
            "Epoch 8/16\n",
            "358/358 [==============================] - 1s 3ms/step - loss: 0.0398 - accuracy: 0.9884\n",
            "Epoch 9/16\n",
            "358/358 [==============================] - 1s 3ms/step - loss: 0.0340 - accuracy: 0.9895\n",
            "Epoch 10/16\n",
            "358/358 [==============================] - 1s 3ms/step - loss: 0.0279 - accuracy: 0.9918\n",
            "Epoch 11/16\n",
            "358/358 [==============================] - 1s 3ms/step - loss: 0.0239 - accuracy: 0.9927\n",
            "Epoch 12/16\n",
            "358/358 [==============================] - 1s 3ms/step - loss: 0.0211 - accuracy: 0.9935\n",
            "Epoch 13/16\n",
            "358/358 [==============================] - 1s 3ms/step - loss: 0.0181 - accuracy: 0.9943\n",
            "Epoch 14/16\n",
            "358/358 [==============================] - 1s 3ms/step - loss: 0.0155 - accuracy: 0.9954\n",
            "Epoch 15/16\n",
            "358/358 [==============================] - 1s 3ms/step - loss: 0.0130 - accuracy: 0.9964\n",
            "Epoch 16/16\n",
            "358/358 [==============================] - 1s 3ms/step - loss: 0.0113 - accuracy: 0.9967\n",
            "313/313 [==============================] - 1s 2ms/step - loss: 0.1020 - accuracy: 0.9782\n"
          ]
        },
        {
          "output_type": "execute_result",
          "data": {
            "text/plain": [
              "[0.10198995471000671, 0.9782000184059143]"
            ]
          },
          "metadata": {},
          "execution_count": 79
        }
      ]
    },
    {
      "cell_type": "code",
      "source": [
        "aModel= keras.Sequential([\n",
        "    keras.Input(28*28),\n",
        "    keras.layers.Dense(150, activation= 'relu'), \n",
        "    keras.layers.Dense(50,  activation= 'relu'), \n",
        "    keras.layers.Dense(10,  activation= 'softmax')\n",
        "    ])\n",
        "\n",
        "aModel.compile(\n",
        "    loss=     'sparse_categorical_crossentropy',\n",
        "    metrics= ['accuracy']\n",
        "    )\n",
        "\n",
        "aModel.fit(xr1, yr, \n",
        "           epochs= 16, \n",
        "           batch_size= 168)\n",
        "\n",
        "aModel.evaluate(xt1, yt)"
      ],
      "metadata": {
        "colab": {
          "base_uri": "https://localhost:8080/"
        },
        "id": "fkDQW0crvNvJ",
        "outputId": "eebf0f0c-11ce-43be-d265-fbab1ad03f12"
      },
      "execution_count": 80,
      "outputs": [
        {
          "output_type": "stream",
          "name": "stdout",
          "text": [
            "Epoch 1/16\n",
            "358/358 [==============================] - 2s 3ms/step - loss: 0.3266 - accuracy: 0.9046\n",
            "Epoch 2/16\n",
            "358/358 [==============================] - 1s 3ms/step - loss: 0.1401 - accuracy: 0.9588\n",
            "Epoch 3/16\n",
            "358/358 [==============================] - 1s 3ms/step - loss: 0.0978 - accuracy: 0.9708\n",
            "Epoch 4/16\n",
            "358/358 [==============================] - 1s 3ms/step - loss: 0.0732 - accuracy: 0.9779\n",
            "Epoch 5/16\n",
            "358/358 [==============================] - 1s 3ms/step - loss: 0.0586 - accuracy: 0.9824\n",
            "Epoch 6/16\n",
            "358/358 [==============================] - 1s 3ms/step - loss: 0.0475 - accuracy: 0.9855\n",
            "Epoch 7/16\n",
            "358/358 [==============================] - 1s 3ms/step - loss: 0.0389 - accuracy: 0.9882\n",
            "Epoch 8/16\n",
            "358/358 [==============================] - 1s 3ms/step - loss: 0.0324 - accuracy: 0.9908\n",
            "Epoch 9/16\n",
            "358/358 [==============================] - 1s 3ms/step - loss: 0.0263 - accuracy: 0.9920\n",
            "Epoch 10/16\n",
            "358/358 [==============================] - 1s 3ms/step - loss: 0.0228 - accuracy: 0.9932\n",
            "Epoch 11/16\n",
            "358/358 [==============================] - 1s 3ms/step - loss: 0.0188 - accuracy: 0.9945\n",
            "Epoch 12/16\n",
            "358/358 [==============================] - 1s 3ms/step - loss: 0.0163 - accuracy: 0.9952\n",
            "Epoch 13/16\n",
            "358/358 [==============================] - 1s 3ms/step - loss: 0.0133 - accuracy: 0.9959\n",
            "Epoch 14/16\n",
            "358/358 [==============================] - 1s 3ms/step - loss: 0.0111 - accuracy: 0.9967\n",
            "Epoch 15/16\n",
            "358/358 [==============================] - 1s 3ms/step - loss: 0.0093 - accuracy: 0.9974\n",
            "Epoch 16/16\n",
            "358/358 [==============================] - 1s 3ms/step - loss: 0.0079 - accuracy: 0.9977\n",
            "313/313 [==============================] - 1s 2ms/step - loss: 0.0940 - accuracy: 0.9800\n"
          ]
        },
        {
          "output_type": "execute_result",
          "data": {
            "text/plain": [
              "[0.09399648755788803, 0.9800000190734863]"
            ]
          },
          "metadata": {},
          "execution_count": 80
        }
      ]
    },
    {
      "cell_type": "markdown",
      "source": [
        "# **結果與原本相比略有提升(原97%->更98%)**"
      ],
      "metadata": {
        "id": "7WvjRyZF4i8d"
      }
    },
    {
      "cell_type": "markdown",
      "source": [
        "# **但是由此可知只透過更改訓練次數的方式對於提升準確率來說仍存在一個上限**"
      ],
      "metadata": {
        "id": "_s64P3Qt4jGl"
      }
    }
  ]
}